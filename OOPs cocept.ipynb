{
 "cells": [
  {
   "cell_type": "code",
   "execution_count": 2,
   "id": "5a77b5df",
   "metadata": {},
   "outputs": [],
   "source": [
    "### all the class variables are public\n",
    "### car blueprint\n",
    "class car():\n",
    "    def __init__(self,windows,doors,enginetype):\n",
    "        self.windows=windows\n",
    "        self.doors=doors\n",
    "        self.enginetype= enginetype\n",
    "    def drive(self):\n",
    "        print (\"this is a self drive car\")"
   ]
  },
  {
   "cell_type": "code",
   "execution_count": 3,
   "id": "388ed932",
   "metadata": {},
   "outputs": [],
   "source": [
    "car1=car(4,5,\"diesel\")"
   ]
  },
  {
   "cell_type": "code",
   "execution_count": 4,
   "id": "38e86c49",
   "metadata": {},
   "outputs": [
    {
     "data": {
      "text/plain": [
       "4"
      ]
     },
     "execution_count": 4,
     "metadata": {},
     "output_type": "execute_result"
    }
   ],
   "source": [
    "car1.windows"
   ]
  },
  {
   "cell_type": "code",
   "execution_count": 5,
   "id": "bf32b0c1",
   "metadata": {},
   "outputs": [
    {
     "name": "stdout",
     "output_type": "stream",
     "text": [
      "this is a self drive car\n"
     ]
    }
   ],
   "source": [
    "car1.drive()"
   ]
  },
  {
   "cell_type": "code",
   "execution_count": 7,
   "id": "f51e8906",
   "metadata": {},
   "outputs": [],
   "source": [
    "class audi(car):\n",
    "    def __init__(self,windows,doors,enginetype,enableai):\n",
    "        super().__init__(windows,doors,enginetype)\n",
    "        self.enableai=enableai\n",
    "    def selfdrive(self):\n",
    "        print (\"aidi supports self driving\")"
   ]
  },
  {
   "cell_type": "code",
   "execution_count": 10,
   "id": "0a6db243",
   "metadata": {},
   "outputs": [],
   "source": [
    "audiq7=audi(5,5,\"diesel\",True)"
   ]
  },
  {
   "cell_type": "code",
   "execution_count": 11,
   "id": "5df188cf",
   "metadata": {},
   "outputs": [
    {
     "data": {
      "text/plain": [
       "['__class__',\n",
       " '__delattr__',\n",
       " '__dict__',\n",
       " '__dir__',\n",
       " '__doc__',\n",
       " '__eq__',\n",
       " '__format__',\n",
       " '__ge__',\n",
       " '__getattribute__',\n",
       " '__gt__',\n",
       " '__hash__',\n",
       " '__init__',\n",
       " '__init_subclass__',\n",
       " '__le__',\n",
       " '__lt__',\n",
       " '__module__',\n",
       " '__ne__',\n",
       " '__new__',\n",
       " '__reduce__',\n",
       " '__reduce_ex__',\n",
       " '__repr__',\n",
       " '__setattr__',\n",
       " '__sizeof__',\n",
       " '__str__',\n",
       " '__subclasshook__',\n",
       " '__weakref__',\n",
       " 'doors',\n",
       " 'drive',\n",
       " 'enableai',\n",
       " 'enginetype',\n",
       " 'selfdrive',\n",
       " 'windows']"
      ]
     },
     "execution_count": 11,
     "metadata": {},
     "output_type": "execute_result"
    }
   ],
   "source": [
    "dir(audiq7)"
   ]
  },
  {
   "cell_type": "code",
   "execution_count": 12,
   "id": "f6667574",
   "metadata": {},
   "outputs": [
    {
     "data": {
      "text/plain": [
       "5"
      ]
     },
     "execution_count": 12,
     "metadata": {},
     "output_type": "execute_result"
    }
   ],
   "source": [
    "audiq7.windows"
   ]
  },
  {
   "cell_type": "code",
   "execution_count": null,
   "id": "a13d6af7",
   "metadata": {},
   "outputs": [],
   "source": []
  },
  {
   "cell_type": "code",
   "execution_count": null,
   "id": "fa24b747",
   "metadata": {},
   "outputs": [],
   "source": []
  },
  {
   "cell_type": "code",
   "execution_count": null,
   "id": "963d7aa0",
   "metadata": {},
   "outputs": [],
   "source": []
  },
  {
   "cell_type": "code",
   "execution_count": null,
   "id": "92c29fa1",
   "metadata": {},
   "outputs": [],
   "source": []
  }
 ],
 "metadata": {
  "kernelspec": {
   "display_name": "Python 3 (ipykernel)",
   "language": "python",
   "name": "python3"
  },
  "language_info": {
   "codemirror_mode": {
    "name": "ipython",
    "version": 3
   },
   "file_extension": ".py",
   "mimetype": "text/x-python",
   "name": "python",
   "nbconvert_exporter": "python",
   "pygments_lexer": "ipython3",
   "version": "3.9.12"
  }
 },
 "nbformat": 4,
 "nbformat_minor": 5
}
