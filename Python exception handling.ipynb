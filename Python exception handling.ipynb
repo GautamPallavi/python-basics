{
 "cells": [
  {
   "cell_type": "code",
   "execution_count": 1,
   "id": "dd44785b",
   "metadata": {},
   "outputs": [
    {
     "name": "stdout",
     "output_type": "stream",
     "text": [
      "name 'b' is not defined\n"
     ]
    }
   ],
   "source": [
    "try:\n",
    "    ##code blok where exception can occur\n",
    "    a=b\n",
    "except Exception as ex:\n",
    "    print(ex)"
   ]
  },
  {
   "cell_type": "code",
   "execution_count": 2,
   "id": "74fa2891",
   "metadata": {},
   "outputs": [
    {
     "name": "stdout",
     "output_type": "stream",
     "text": [
      "the user have not defined the variable\n"
     ]
    }
   ],
   "source": [
    "try:\n",
    "    ##code blok where exception can occur\n",
    "    a=b\n",
    "except NameError as ex1:\n",
    "    print(\"the user have not defined the variable\")\n",
    "except Exception as ex:\n",
    "    print(ex)"
   ]
  },
  {
   "cell_type": "code",
   "execution_count": 3,
   "id": "dc2674a0",
   "metadata": {},
   "outputs": [
    {
     "name": "stdout",
     "output_type": "stream",
     "text": [
      "unsupported operand type(s) for +: 'int' and 'str'\n"
     ]
    }
   ],
   "source": [
    "try:\n",
    "    ##code blok where exception can occur\n",
    "    a=1\n",
    "    b=\"s\"\n",
    "    c=a+b\n",
    "except NameError as ex1:\n",
    "    print(\"the user have not defined the variable\")\n",
    "except Exception as ex:\n",
    "    print(ex)"
   ]
  },
  {
   "cell_type": "code",
   "execution_count": null,
   "id": "ff3e30e5",
   "metadata": {},
   "outputs": [],
   "source": [
    "try:\n",
    "    a=int(input (\"Enter the numner 1\"))\n",
    "    b=int(input (\"Enter the number 2\"))\n",
    "    c=a+b\n",
    "    d=a*b\n",
    "    e=a/b\n",
    "    print(c)\n",
    "    print(d)\n",
    "    print(e)\n",
    "    \n",
    "except NameError as ex1:\n",
    "        print(\"the user have not defined the variable\")\n",
    "except ZeroDivisionError as ex3:\n",
    "        print(\"user should enter number greater then zero\")\n",
    "except TypeError as ex2:\n",
    "        print(\"the user have not Used proper syntex\")\n",
    "except Exception as ex:\n",
    "        print(ex)"
   ]
  },
  {
   "cell_type": "code",
   "execution_count": null,
   "id": "68019a4f",
   "metadata": {},
   "outputs": [],
   "source": [
    "45/0"
   ]
  },
  {
   "cell_type": "code",
   "execution_count": null,
   "id": "a6390f54",
   "metadata": {},
   "outputs": [],
   "source": [
    "# Try else\n",
    "\n",
    "try:\n",
    "    a=int(input (\"Enter the numner 1\"))\n",
    "    b=int(input (\"Enter the number 2\"))\n",
    "    c=a+b\n",
    "    d=a*b\n",
    "    e=a/b \n",
    "    \n",
    "except NameError as ex1:\n",
    "        print(\"the user have not defined the variable\")\n",
    "except ZeroDivisionError as ex3:\n",
    "        print(\"user should enter number greater then zero\")\n",
    "except TypeError as ex2:\n",
    "        print(\"the user have not Used proper syntex\")\n",
    "except Exception as ex:\n",
    "        print(ex)\n",
    "        \n",
    "else:\n",
    "    print(c)\n",
    "    print(d)\n",
    "    print(e)"
   ]
  },
  {
   "cell_type": "code",
   "execution_count": null,
   "id": "0f910d05",
   "metadata": {},
   "outputs": [],
   "source": [
    "## Try else and Finally\n",
    "try:\n",
    "    a=int(input (\"Enter the numner 1\"))\n",
    "    b=int(input (\"Enter the number 2\"))\n",
    "    \n",
    "    e=a/b \n",
    "    \n",
    "except NameError as ex1:\n",
    "        print(\"the user have not defined the variable\")\n",
    "except ZeroDivisionError as ex3:\n",
    "        print(\"user should enter number greater then zero\")\n",
    "except TypeError as ex2:\n",
    "        print(\"the user have not Used proper syntex\")\n",
    "except Exception as ex:\n",
    "        print(ex)\n",
    "        \n",
    "else:\n",
    "    print(e)\n",
    "finally:\n",
    "    print('the execution is done')"
   ]
  },
  {
   "cell_type": "markdown",
   "id": "e128a421",
   "metadata": {},
   "source": [
    "#Custom Exception "
   ]
  },
  {
   "cell_type": "code",
   "execution_count": null,
   "id": "afebcf58",
   "metadata": {},
   "outputs": [],
   "source": [
    "class Error(Exception):\n",
    "    pass\n",
    "class dobException(Error):\n",
    "    pass"
   ]
  },
  {
   "cell_type": "code",
   "execution_count": null,
   "id": "c7c9b1da",
   "metadata": {},
   "outputs": [],
   "source": [
    "year=int(input(\"Enter the year of Birth\"))\n",
    "age=2022-year\n",
    "try:\n",
    "    if age<=30 & age>20:\n",
    "        pass\n",
    "    else:\n",
    "        raise dobException \n",
    "    \n",
    "except dobException:\n",
    "    print(\"The year range is not valid\")\n",
    "    \n",
    "    "
   ]
  },
  {
   "cell_type": "code",
   "execution_count": null,
   "id": "3bbf814e",
   "metadata": {},
   "outputs": [],
   "source": [
    "year=int(input(\"Enter the year of Birth\"))\n",
    "age=2022-year\n",
    "try:\n",
    "    if age<=30 & age>20:\n",
    "        print(\"The age is valid you can proceed with the form\")\n",
    "    else:\n",
    "        raise dobException \n",
    "    \n",
    "except dobException:\n",
    "    print(\"The year range is not valid you can not apply\")"
   ]
  },
  {
   "cell_type": "code",
   "execution_count": 8,
   "id": "d4c3790c",
   "metadata": {},
   "outputs": [],
   "source": [
    "class Car:\n",
    "    pass ## that means no othe properties are yet defined inside the class"
   ]
  },
  {
   "cell_type": "code",
   "execution_count": 9,
   "id": "8df5e7de",
   "metadata": {},
   "outputs": [],
   "source": [
    "## bad manner to define a class \n",
    "## we can initialize a object fromthe perticuler class\n",
    "car1= Car()"
   ]
  },
  {
   "cell_type": "code",
   "execution_count": 10,
   "id": "7cb35a2f",
   "metadata": {},
   "outputs": [
    {
     "data": {
      "text/plain": [
       "['__class__',\n",
       " '__delattr__',\n",
       " '__dict__',\n",
       " '__dir__',\n",
       " '__doc__',\n",
       " '__eq__',\n",
       " '__format__',\n",
       " '__ge__',\n",
       " '__getattribute__',\n",
       " '__gt__',\n",
       " '__hash__',\n",
       " '__init__',\n",
       " '__init_subclass__',\n",
       " '__le__',\n",
       " '__lt__',\n",
       " '__module__',\n",
       " '__ne__',\n",
       " '__new__',\n",
       " '__reduce__',\n",
       " '__reduce_ex__',\n",
       " '__repr__',\n",
       " '__setattr__',\n",
       " '__sizeof__',\n",
       " '__str__',\n",
       " '__subclasshook__',\n",
       " '__weakref__']"
      ]
     },
     "execution_count": 10,
     "metadata": {},
     "output_type": "execute_result"
    }
   ],
   "source": [
    "dir(car1)"
   ]
  },
  {
   "cell_type": "code",
   "execution_count": 11,
   "id": "8605eb37",
   "metadata": {},
   "outputs": [],
   "source": [
    "car1.windows=4\n",
    "car1.doors=5"
   ]
  },
  {
   "cell_type": "code",
   "execution_count": 12,
   "id": "5f3178f3",
   "metadata": {},
   "outputs": [
    {
     "name": "stdout",
     "output_type": "stream",
     "text": [
      "4\n"
     ]
    }
   ],
   "source": [
    "print(car1.windows)"
   ]
  },
  {
   "cell_type": "code",
   "execution_count": 13,
   "id": "67fd237a",
   "metadata": {},
   "outputs": [],
   "source": [
    "car1.engine_type=\"petrol\""
   ]
  },
  {
   "cell_type": "code",
   "execution_count": 14,
   "id": "20257c0c",
   "metadata": {},
   "outputs": [
    {
     "name": "stdout",
     "output_type": "stream",
     "text": [
      "petrol\n"
     ]
    }
   ],
   "source": [
    "print(car1.engine_type)"
   ]
  },
  {
   "cell_type": "code",
   "execution_count": 17,
   "id": "b85ee157",
   "metadata": {},
   "outputs": [],
   "source": [
    "##right approach to create a class\n",
    "\n",
    "class car:\n",
    "     def __init__(self,window,door,enginetype):\n",
    "            self.windows=window\n",
    "            self.doors=door\n",
    "            self.enginetype=enginetype\n",
    "            \n",
    "        "
   ]
  },
  {
   "cell_type": "code",
   "execution_count": 18,
   "id": "c55c2155",
   "metadata": {},
   "outputs": [],
   "source": [
    "car2= car(4,5,\"petrol\")"
   ]
  },
  {
   "cell_type": "code",
   "execution_count": 19,
   "id": "9369a372",
   "metadata": {},
   "outputs": [],
   "source": [
    "audi=(4,5,\"diesel\")"
   ]
  },
  {
   "cell_type": "code",
   "execution_count": 21,
   "id": "e9e62419",
   "metadata": {},
   "outputs": [
    {
     "data": {
      "text/plain": [
       "(4, 5, 'diesel')"
      ]
     },
     "execution_count": 21,
     "metadata": {},
     "output_type": "execute_result"
    }
   ],
   "source": [
    "audi"
   ]
  },
  {
   "cell_type": "code",
   "execution_count": null,
   "id": "135ab3ec",
   "metadata": {},
   "outputs": [],
   "source": []
  }
 ],
 "metadata": {
  "kernelspec": {
   "display_name": "Python 3 (ipykernel)",
   "language": "python",
   "name": "python3"
  },
  "language_info": {
   "codemirror_mode": {
    "name": "ipython",
    "version": 3
   },
   "file_extension": ".py",
   "mimetype": "text/x-python",
   "name": "python",
   "nbconvert_exporter": "python",
   "pygments_lexer": "ipython3",
   "version": "3.9.12"
  }
 },
 "nbformat": 4,
 "nbformat_minor": 5
}
