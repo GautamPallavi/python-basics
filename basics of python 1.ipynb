{
 "cells": [
  {
   "cell_type": "code",
   "execution_count": 23,
   "id": "d6b110eb",
   "metadata": {},
   "outputs": [
    {
     "data": {
      "text/plain": [
       "18"
      ]
     },
     "execution_count": 23,
     "metadata": {},
     "output_type": "execute_result"
    }
   ],
   "source": [
    "6*3"
   ]
  },
  {
   "cell_type": "code",
   "execution_count": 24,
   "id": "8b221ece",
   "metadata": {},
   "outputs": [
    {
     "data": {
      "text/plain": [
       "0"
      ]
     },
     "execution_count": 24,
     "metadata": {},
     "output_type": "execute_result"
    }
   ],
   "source": [
    "10%2"
   ]
  },
  {
   "cell_type": "code",
   "execution_count": 25,
   "id": "4d94c6c3",
   "metadata": {},
   "outputs": [
    {
     "data": {
      "text/plain": [
       "100"
      ]
     },
     "execution_count": 25,
     "metadata": {},
     "output_type": "execute_result"
    }
   ],
   "source": [
    "10**2"
   ]
  },
  {
   "cell_type": "code",
   "execution_count": 26,
   "id": "3ae2a58e",
   "metadata": {},
   "outputs": [
    {
     "data": {
      "text/plain": [
       "'strstrstrstrstrstrstrstrstrstr'"
      ]
     },
     "execution_count": 26,
     "metadata": {},
     "output_type": "execute_result"
    }
   ],
   "source": [
    "10*'str'"
   ]
  },
  {
   "cell_type": "code",
   "execution_count": 27,
   "id": "ff3b7731",
   "metadata": {},
   "outputs": [],
   "source": [
    "## check the datatypes"
   ]
  },
  {
   "cell_type": "code",
   "execution_count": 28,
   "id": "05de9076",
   "metadata": {},
   "outputs": [
    {
     "data": {
      "text/plain": [
       "str"
      ]
     },
     "execution_count": 28,
     "metadata": {},
     "output_type": "execute_result"
    }
   ],
   "source": [
    "type('A')"
   ]
  },
  {
   "cell_type": "code",
   "execution_count": 29,
   "id": "d564346a",
   "metadata": {},
   "outputs": [
    {
     "data": {
      "text/plain": [
       "float"
      ]
     },
     "execution_count": 29,
     "metadata": {},
     "output_type": "execute_result"
    }
   ],
   "source": [
    "type(1.5)"
   ]
  },
  {
   "cell_type": "code",
   "execution_count": 30,
   "id": "f566416d",
   "metadata": {},
   "outputs": [
    {
     "data": {
      "text/plain": [
       "float"
      ]
     },
     "execution_count": 30,
     "metadata": {},
     "output_type": "execute_result"
    }
   ],
   "source": [
    "type(2.999854346)"
   ]
  },
  {
   "cell_type": "code",
   "execution_count": 31,
   "id": "3931a351",
   "metadata": {},
   "outputs": [
    {
     "data": {
      "text/plain": [
       "float"
      ]
     },
     "execution_count": 31,
     "metadata": {},
     "output_type": "execute_result"
    }
   ],
   "source": [
    "type(1/3)"
   ]
  },
  {
   "cell_type": "code",
   "execution_count": 32,
   "id": "2c367125",
   "metadata": {},
   "outputs": [
    {
     "data": {
      "text/plain": [
       "str"
      ]
     },
     "execution_count": 32,
     "metadata": {},
     "output_type": "execute_result"
    }
   ],
   "source": [
    "type ('hello')"
   ]
  },
  {
   "cell_type": "code",
   "execution_count": 33,
   "id": "6e9407c1",
   "metadata": {},
   "outputs": [
    {
     "data": {
      "text/plain": [
       "bool"
      ]
     },
     "execution_count": 33,
     "metadata": {},
     "output_type": "execute_result"
    }
   ],
   "source": [
    "type(True)"
   ]
  },
  {
   "cell_type": "raw",
   "id": "db5b1c8c",
   "metadata": {},
   "source": [
    "##variable assignment\n",
    "var_name=value"
   ]
  },
  {
   "cell_type": "code",
   "execution_count": 34,
   "id": "ed7e8cac",
   "metadata": {},
   "outputs": [
    {
     "data": {
      "text/plain": [
       "int"
      ]
     },
     "execution_count": 34,
     "metadata": {},
     "output_type": "execute_result"
    }
   ],
   "source": [
    "a=10\n",
    "type(a)"
   ]
  },
  {
   "cell_type": "code",
   "execution_count": 35,
   "id": "c00097cd",
   "metadata": {},
   "outputs": [],
   "source": [
    "## mathemetical operations\n",
    "\n",
    "\n",
    "a=10\n",
    "b=15"
   ]
  },
  {
   "cell_type": "code",
   "execution_count": 36,
   "id": "1feda466",
   "metadata": {},
   "outputs": [
    {
     "name": "stdout",
     "output_type": "stream",
     "text": [
      "150\n",
      "25\n",
      "1000000000000000\n",
      "0.6666666666666666\n",
      "10\n",
      "150.66666666666666\n"
     ]
    }
   ],
   "source": [
    "print(a*b)\n",
    "print(a+b)\n",
    "print(a**b)\n",
    "print(a/b)\n",
    "print(a%b)\n",
    "print((a*b)+(a/b))"
   ]
  },
  {
   "cell_type": "code",
   "execution_count": null,
   "id": "ee81b86f",
   "metadata": {},
   "outputs": [],
   "source": []
  },
  {
   "cell_type": "code",
   "execution_count": 38,
   "id": "abb4bd21",
   "metadata": {},
   "outputs": [],
   "source": [
    "first_name='pallavi'\n",
    "last_name='gautam'"
   ]
  },
  {
   "cell_type": "code",
   "execution_count": 41,
   "id": "62e082d3",
   "metadata": {},
   "outputs": [
    {
     "name": "stdout",
     "output_type": "stream",
     "text": [
      "my first name is pallavi and last name is gautam\n"
     ]
    }
   ],
   "source": [
    "print(\"my first name is {} and last name is {}\".format(first_name,last_name))"
   ]
  },
  {
   "cell_type": "code",
   "execution_count": null,
   "id": "7e1e0add",
   "metadata": {},
   "outputs": [],
   "source": []
  },
  {
   "cell_type": "code",
   "execution_count": 8,
   "id": "02401e73",
   "metadata": {},
   "outputs": [
    {
     "data": {
      "text/plain": [
       "7"
      ]
     },
     "execution_count": 8,
     "metadata": {},
     "output_type": "execute_result"
    }
   ],
   "source": [
    "len('pallavi')"
   ]
  },
  {
   "cell_type": "code",
   "execution_count": 9,
   "id": "4cdabdf8",
   "metadata": {},
   "outputs": [
    {
     "data": {
      "text/plain": [
       "list"
      ]
     },
     "execution_count": 9,
     "metadata": {},
     "output_type": "execute_result"
    }
   ],
   "source": [
    "type(['1',2,3,4,5])"
   ]
  },
  {
   "cell_type": "code",
   "execution_count": 17,
   "id": "9c6dcc55",
   "metadata": {},
   "outputs": [],
   "source": [
    "lst_example=['mathematics','chemestry',100,300,250]"
   ]
  },
  {
   "cell_type": "code",
   "execution_count": 18,
   "id": "5467ca29",
   "metadata": {},
   "outputs": [
    {
     "data": {
      "text/plain": [
       "11"
      ]
     },
     "execution_count": 18,
     "metadata": {},
     "output_type": "execute_result"
    }
   ],
   "source": [
    "len('lst_example')"
   ]
  },
  {
   "cell_type": "code",
   "execution_count": 19,
   "id": "62b11679",
   "metadata": {},
   "outputs": [
    {
     "data": {
      "text/plain": [
       "5"
      ]
     },
     "execution_count": 19,
     "metadata": {},
     "output_type": "execute_result"
    }
   ],
   "source": [
    "len(lst_example)"
   ]
  },
  {
   "cell_type": "code",
   "execution_count": 20,
   "id": "30d7542d",
   "metadata": {},
   "outputs": [],
   "source": [
    "## append is used to add elements in the list\n",
    "lst_example.append(\"pallavi\")"
   ]
  },
  {
   "cell_type": "code",
   "execution_count": 16,
   "id": "1c460c9d",
   "metadata": {},
   "outputs": [
    {
     "data": {
      "text/plain": [
       "['mathematics', 'chemestry', 100, 300, 250, 'pallavi', 'pallavi']"
      ]
     },
     "execution_count": 16,
     "metadata": {},
     "output_type": "execute_result"
    }
   ],
   "source": [
    "lst_example"
   ]
  },
  {
   "cell_type": "code",
   "execution_count": 24,
   "id": "8cf0c156",
   "metadata": {},
   "outputs": [
    {
     "data": {
      "text/plain": [
       "['chemestry', 100, 300, 250, 'pallavi']"
      ]
     },
     "execution_count": 24,
     "metadata": {},
     "output_type": "execute_result"
    }
   ],
   "source": [
    "lst_example[1:6]"
   ]
  },
  {
   "cell_type": "code",
   "execution_count": 27,
   "id": "ae023620",
   "metadata": {},
   "outputs": [],
   "source": [
    "lst_example.append(['arti','kanchi'])"
   ]
  },
  {
   "cell_type": "code",
   "execution_count": 28,
   "id": "3a8a3691",
   "metadata": {},
   "outputs": [
    {
     "data": {
      "text/plain": [
       "['mathematics',\n",
       " 'chemestry',\n",
       " 100,\n",
       " 300,\n",
       " 250,\n",
       " 'pallavi',\n",
       " ['arti', 'kanchi'],\n",
       " ['arti', 'kanchi']]"
      ]
     },
     "execution_count": 28,
     "metadata": {},
     "output_type": "execute_result"
    }
   ],
   "source": [
    "lst_example"
   ]
  },
  {
   "cell_type": "code",
   "execution_count": null,
   "id": "d5561b2f",
   "metadata": {},
   "outputs": [],
   "source": [
    "##insert functioN"
   ]
  },
  {
   "cell_type": "code",
   "execution_count": 31,
   "id": "fb209882",
   "metadata": {},
   "outputs": [],
   "source": [
    "lst_example.insert(3,'manu')"
   ]
  },
  {
   "cell_type": "code",
   "execution_count": 32,
   "id": "44fda071",
   "metadata": {},
   "outputs": [
    {
     "data": {
      "text/plain": [
       "['mathematics',\n",
       " 'chemestry',\n",
       " 100,\n",
       " 'manu',\n",
       " 'manu',\n",
       " 300,\n",
       " 250,\n",
       " 'pallavi',\n",
       " ['arti', 'kanchi'],\n",
       " ['arti', 'kanchi']]"
      ]
     },
     "execution_count": 32,
     "metadata": {},
     "output_type": "execute_result"
    }
   ],
   "source": [
    "lst_example"
   ]
  },
  {
   "cell_type": "code",
   "execution_count": 1,
   "id": "f68a4dc8",
   "metadata": {},
   "outputs": [
    {
     "name": "stdout",
     "output_type": "stream",
     "text": [
      "The Zen of Python, by Tim Peters\n",
      "\n",
      "Beautiful is better than ugly.\n",
      "Explicit is better than implicit.\n",
      "Simple is better than complex.\n",
      "Complex is better than complicated.\n",
      "Flat is better than nested.\n",
      "Sparse is better than dense.\n",
      "Readability counts.\n",
      "Special cases aren't special enough to break the rules.\n",
      "Although practicality beats purity.\n",
      "Errors should never pass silently.\n",
      "Unless explicitly silenced.\n",
      "In the face of ambiguity, refuse the temptation to guess.\n",
      "There should be one-- and preferably only one --obvious way to do it.\n",
      "Although that way may not be obvious at first unless you're Dutch.\n",
      "Now is better than never.\n",
      "Although never is often better than *right* now.\n",
      "If the implementation is hard to explain, it's a bad idea.\n",
      "If the implementation is easy to explain, it may be a good idea.\n",
      "Namespaces are one honking great idea -- let's do more of those!\n"
     ]
    }
   ],
   "source": [
    "import this"
   ]
  },
  {
   "cell_type": "code",
   "execution_count": 2,
   "id": "05ffe432",
   "metadata": {},
   "outputs": [
    {
     "name": "stdout",
     "output_type": "stream",
     "text": [
      "hello world\n"
     ]
    }
   ],
   "source": [
    "print('hello world')"
   ]
  },
  {
   "cell_type": "code",
   "execution_count": null,
   "id": "99f19ebe",
   "metadata": {},
   "outputs": [],
   "source": [
    "#single line and multiline comments\n",
    "'''basics of python coding\n",
    "krish naik\n",
    "'''"
   ]
  },
  {
   "cell_type": "code",
   "execution_count": 6,
   "id": "c353c647",
   "metadata": {},
   "outputs": [],
   "source": [
    "#variable declaration\n",
    "a=10\n",
    "c='pallavi'"
   ]
  },
  {
   "cell_type": "code",
   "execution_count": 5,
   "id": "41d4510e",
   "metadata": {},
   "outputs": [
    {
     "data": {
      "text/plain": [
       "int"
      ]
     },
     "execution_count": 5,
     "metadata": {},
     "output_type": "execute_result"
    }
   ],
   "source": [
    "type(a)"
   ]
  },
  {
   "cell_type": "code",
   "execution_count": 7,
   "id": "f6c16b9d",
   "metadata": {},
   "outputs": [
    {
     "data": {
      "text/plain": [
       "str"
      ]
     },
     "execution_count": 7,
     "metadata": {},
     "output_type": "execute_result"
    }
   ],
   "source": [
    "type(c)"
   ]
  },
  {
   "cell_type": "code",
   "execution_count": 8,
   "id": "5ecdf991",
   "metadata": {},
   "outputs": [
    {
     "data": {
      "text/plain": [
       "0"
      ]
     },
     "execution_count": 8,
     "metadata": {},
     "output_type": "execute_result"
    }
   ],
   "source": [
    "a%10"
   ]
  },
  {
   "cell_type": "code",
   "execution_count": 9,
   "id": "51650bd5",
   "metadata": {},
   "outputs": [
    {
     "name": "stdout",
     "output_type": "stream",
     "text": [
      "<class 'int'>\n"
     ]
    }
   ],
   "source": [
    "print(type(a))"
   ]
  },
  {
   "cell_type": "code",
   "execution_count": 10,
   "id": "45f41c85",
   "metadata": {},
   "outputs": [
    {
     "name": "stdout",
     "output_type": "stream",
     "text": [
      "190.5\n"
     ]
    }
   ],
   "source": [
    "#floting\n",
    "a=190.5\n",
    "print (a)"
   ]
  },
  {
   "cell_type": "code",
   "execution_count": 11,
   "id": "9d2a791a",
   "metadata": {},
   "outputs": [
    {
     "name": "stdout",
     "output_type": "stream",
     "text": [
      "<class 'float'>\n"
     ]
    }
   ],
   "source": [
    "print(type(a))"
   ]
  },
  {
   "cell_type": "code",
   "execution_count": 12,
   "id": "7fce8667",
   "metadata": {},
   "outputs": [
    {
     "data": {
      "text/plain": [
       "190"
      ]
     },
     "execution_count": 12,
     "metadata": {},
     "output_type": "execute_result"
    }
   ],
   "source": [
    "int(a)"
   ]
  },
  {
   "cell_type": "code",
   "execution_count": 13,
   "id": "cc7023c8",
   "metadata": {},
   "outputs": [
    {
     "data": {
      "text/plain": [
       "190.5"
      ]
     },
     "execution_count": 13,
     "metadata": {},
     "output_type": "execute_result"
    }
   ],
   "source": [
    "float(a)"
   ]
  },
  {
   "cell_type": "code",
   "execution_count": 15,
   "id": "8513bb43",
   "metadata": {},
   "outputs": [],
   "source": [
    "## Boolean\n",
    "a1=True\n",
    "b1=False"
   ]
  },
  {
   "cell_type": "code",
   "execution_count": 16,
   "id": "f8e3abb2",
   "metadata": {},
   "outputs": [
    {
     "data": {
      "text/plain": [
       "bool"
      ]
     },
     "execution_count": 16,
     "metadata": {},
     "output_type": "execute_result"
    }
   ],
   "source": [
    "type(a1)"
   ]
  },
  {
   "cell_type": "code",
   "execution_count": 17,
   "id": "10657d55",
   "metadata": {},
   "outputs": [
    {
     "data": {
      "text/plain": [
       "False"
      ]
     },
     "execution_count": 17,
     "metadata": {},
     "output_type": "execute_result"
    }
   ],
   "source": [
    "a1 and b1"
   ]
  },
  {
   "cell_type": "code",
   "execution_count": 19,
   "id": "4cd1eee1",
   "metadata": {},
   "outputs": [
    {
     "data": {
      "text/plain": [
       "True"
      ]
     },
     "execution_count": 19,
     "metadata": {},
     "output_type": "execute_result"
    }
   ],
   "source": [
    "a1|b1"
   ]
  },
  {
   "cell_type": "code",
   "execution_count": 21,
   "id": "1fc3a96e",
   "metadata": {},
   "outputs": [],
   "source": [
    "name1=\"pallavi\""
   ]
  },
  {
   "cell_type": "code",
   "execution_count": 23,
   "id": "2dc1c25e",
   "metadata": {},
   "outputs": [
    {
     "data": {
      "text/plain": [
       "'pallavigautam'"
      ]
     },
     "execution_count": 23,
     "metadata": {},
     "output_type": "execute_result"
    }
   ],
   "source": [
    "name1+ \"gautam\""
   ]
  },
  {
   "cell_type": "code",
   "execution_count": 28,
   "id": "2852bf27",
   "metadata": {},
   "outputs": [
    {
     "ename": "TypeError",
     "evalue": "can only concatenate str (not \"int\") to str",
     "output_type": "error",
     "traceback": [
      "\u001b[1;31m---------------------------------------------------------------------------\u001b[0m",
      "\u001b[1;31mTypeError\u001b[0m                                 Traceback (most recent call last)",
      "Input \u001b[1;32mIn [28]\u001b[0m, in \u001b[0;36m<cell line: 1>\u001b[1;34m()\u001b[0m\n\u001b[1;32m----> 1\u001b[0m \u001b[43mname1\u001b[49m\u001b[43m \u001b[49m\u001b[38;5;241;43m+\u001b[39;49m\u001b[38;5;241;43m1\u001b[39;49m\n",
      "\u001b[1;31mTypeError\u001b[0m: can only concatenate str (not \"int\") to str"
     ]
    }
   ],
   "source": [
    "name1 +1"
   ]
  },
  {
   "cell_type": "code",
   "execution_count": 25,
   "id": "13a447f3",
   "metadata": {},
   "outputs": [
    {
     "data": {
      "text/plain": [
       "'pallavi1'"
      ]
     },
     "execution_count": 25,
     "metadata": {},
     "output_type": "execute_result"
    }
   ],
   "source": [
    "name1 + str(1) # strong typing when two data types are combined"
   ]
  },
  {
   "cell_type": "code",
   "execution_count": 26,
   "id": "2c496cba",
   "metadata": {},
   "outputs": [
    {
     "data": {
      "text/plain": [
       "(1-2.3j)"
      ]
     },
     "execution_count": 26,
     "metadata": {},
     "output_type": "execute_result"
    }
   ],
   "source": [
    "## complex numbers\n",
    "j=1.0-2.3j\n",
    "j"
   ]
  },
  {
   "cell_type": "code",
   "execution_count": 27,
   "id": "178117dc",
   "metadata": {},
   "outputs": [
    {
     "name": "stdout",
     "output_type": "stream",
     "text": [
      "1.0 -2.3\n"
     ]
    }
   ],
   "source": [
    "print(j.real,j.imag)"
   ]
  },
  {
   "cell_type": "code",
   "execution_count": null,
   "id": "ffffb34f",
   "metadata": {},
   "outputs": [],
   "source": [
    "#Dynamic typing/ strong typing\n",
    "a=10\n",
    "a='pallavi'"
   ]
  },
  {
   "cell_type": "code",
   "execution_count": 29,
   "id": "f738a020",
   "metadata": {},
   "outputs": [
    {
     "data": {
      "text/plain": [
       "'pallavi1'"
      ]
     },
     "execution_count": 29,
     "metadata": {},
     "output_type": "execute_result"
    }
   ],
   "source": [
    "# strong typing\n",
    "a=\"pallavi\"\n",
    "a+\"1\""
   ]
  },
  {
   "cell_type": "code",
   "execution_count": 30,
   "id": "f5a82bbd",
   "metadata": {},
   "outputs": [
    {
     "name": "stdout",
     "output_type": "stream",
     "text": [
      "the value is-  100\n"
     ]
    }
   ],
   "source": [
    "## string formatting\n",
    "a=100\n",
    "print (\"the value is- \",a)"
   ]
  },
  {
   "cell_type": "code",
   "execution_count": 38,
   "id": "63f22a2e",
   "metadata": {},
   "outputs": [
    {
     "name": "stdout",
     "output_type": "stream",
     "text": [
      "the first name is pallavi and last name is gautam\n"
     ]
    }
   ],
   "source": [
    "first_name= \"pallavi\"\n",
    "last_name= \"gautam\"\n",
    "print(\"the first name is {1} and last name is {0}\".format(last_name, first_name))"
   ]
  },
  {
   "cell_type": "code",
   "execution_count": 39,
   "id": "13f7dfcb",
   "metadata": {},
   "outputs": [
    {
     "name": "stdout",
     "output_type": "stream",
     "text": [
      "enter the namepallavi\n"
     ]
    },
    {
     "data": {
      "text/plain": [
       "'pallavi'"
      ]
     },
     "execution_count": 39,
     "metadata": {},
     "output_type": "execute_result"
    }
   ],
   "source": [
    "##input type\n",
    "input(\"enter the name\")"
   ]
  },
  {
   "cell_type": "code",
   "execution_count": null,
   "id": "05254238",
   "metadata": {},
   "outputs": [],
   "source": []
  },
  {
   "cell_type": "code",
   "execution_count": null,
   "id": "4b902736",
   "metadata": {},
   "outputs": [],
   "source": []
  },
  {
   "cell_type": "code",
   "execution_count": null,
   "id": "6456a390",
   "metadata": {},
   "outputs": [],
   "source": []
  },
  {
   "cell_type": "code",
   "execution_count": null,
   "id": "a38a86d6",
   "metadata": {},
   "outputs": [],
   "source": []
  },
  {
   "cell_type": "code",
   "execution_count": null,
   "id": "9b570572",
   "metadata": {},
   "outputs": [],
   "source": []
  }
 ],
 "metadata": {
  "kernelspec": {
   "display_name": "Python 3 (ipykernel)",
   "language": "python",
   "name": "python3"
  },
  "language_info": {
   "codemirror_mode": {
    "name": "ipython",
    "version": 3
   },
   "file_extension": ".py",
   "mimetype": "text/x-python",
   "name": "python",
   "nbconvert_exporter": "python",
   "pygments_lexer": "ipython3",
   "version": "3.9.12"
  }
 },
 "nbformat": 4,
 "nbformat_minor": 5
}
