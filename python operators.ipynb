{
 "cells": [
  {
   "cell_type": "code",
   "execution_count": null,
   "id": "b6bbf95e",
   "metadata": {},
   "outputs": [],
   "source": [
    "## Python operators\n",
    "#Logical\n",
    "#Arithmetic\n",
    "#Equality\n",
    "#Comparision"
   ]
  },
  {
   "cell_type": "code",
   "execution_count": 1,
   "id": "e930a04e",
   "metadata": {},
   "outputs": [
    {
     "data": {
      "text/plain": [
       "True"
      ]
     },
     "execution_count": 1,
     "metadata": {},
     "output_type": "execute_result"
    }
   ],
   "source": [
    "bool (1)"
   ]
  },
  {
   "cell_type": "code",
   "execution_count": 3,
   "id": "a144824b",
   "metadata": {},
   "outputs": [
    {
     "data": {
      "text/plain": [
       "bool"
      ]
     },
     "execution_count": 3,
     "metadata": {},
     "output_type": "execute_result"
    }
   ],
   "source": [
    "type(True)"
   ]
  },
  {
   "cell_type": "code",
   "execution_count": 4,
   "id": "1e48e252",
   "metadata": {},
   "outputs": [],
   "source": [
    "a=True\n",
    "b=False"
   ]
  },
  {
   "cell_type": "code",
   "execution_count": 5,
   "id": "b7efde0d",
   "metadata": {},
   "outputs": [
    {
     "data": {
      "text/plain": [
       "False"
      ]
     },
     "execution_count": 5,
     "metadata": {},
     "output_type": "execute_result"
    }
   ],
   "source": [
    "True and False"
   ]
  },
  {
   "cell_type": "code",
   "execution_count": 6,
   "id": "f856a600",
   "metadata": {},
   "outputs": [
    {
     "data": {
      "text/plain": [
       "True"
      ]
     },
     "execution_count": 6,
     "metadata": {},
     "output_type": "execute_result"
    }
   ],
   "source": [
    "True or False"
   ]
  },
  {
   "cell_type": "code",
   "execution_count": 7,
   "id": "29d78d47",
   "metadata": {},
   "outputs": [
    {
     "data": {
      "text/plain": [
       "False"
      ]
     },
     "execution_count": 7,
     "metadata": {},
     "output_type": "execute_result"
    }
   ],
   "source": [
    "not True"
   ]
  },
  {
   "cell_type": "code",
   "execution_count": 8,
   "id": "2823fa78",
   "metadata": {},
   "outputs": [
    {
     "name": "stdout",
     "output_type": "stream",
     "text": [
      "Enter the age35\n",
      "mid age\n"
     ]
    }
   ],
   "source": [
    "age =int(input(\"Enter the age\"))\n",
    "if age>18 and age<=35:\n",
    "    print(\"mid age\")"
   ]
  },
  {
   "cell_type": "code",
   "execution_count": 10,
   "id": "79781b50",
   "metadata": {},
   "outputs": [
    {
     "data": {
      "text/plain": [
       "True"
      ]
     },
     "execution_count": 10,
     "metadata": {},
     "output_type": "execute_result"
    }
   ],
   "source": [
    "## Equality operators\n",
    "a=1\n",
    "b=1.0\n",
    "\n",
    "a==b"
   ]
  },
  {
   "cell_type": "code",
   "execution_count": 11,
   "id": "e4eff02c",
   "metadata": {},
   "outputs": [
    {
     "name": "stdout",
     "output_type": "stream",
     "text": [
      "Enter the age18\n",
      "you are a teenager\n"
     ]
    }
   ],
   "source": [
    "age=int(input(\"Enter the age\"))\n",
    "if age==18:\n",
    "    print(\"you are a teenager\")"
   ]
  },
  {
   "cell_type": "code",
   "execution_count": 3,
   "id": "b66c1d30",
   "metadata": {},
   "outputs": [
    {
     "data": {
      "text/plain": [
       "1614054751728"
      ]
     },
     "execution_count": 3,
     "metadata": {},
     "output_type": "execute_result"
    }
   ],
   "source": [
    "a=\"Pallavi\"\n",
    "id(a)"
   ]
  },
  {
   "cell_type": "code",
   "execution_count": 5,
   "id": "b09abf01",
   "metadata": {},
   "outputs": [
    {
     "data": {
      "text/plain": [
       "True"
      ]
     },
     "execution_count": 5,
     "metadata": {},
     "output_type": "execute_result"
    }
   ],
   "source": [
    "b='Pallavi'\n",
    "a is b"
   ]
  },
  {
   "cell_type": "code",
   "execution_count": 6,
   "id": "263a5c35",
   "metadata": {},
   "outputs": [
    {
     "name": "stdout",
     "output_type": "stream",
     "text": [
      "1614110320064\n",
      "1614109189440\n"
     ]
    }
   ],
   "source": [
    "## ais b indentifies if the the point a and b points to the same object\n",
    "##a==b shows the values are equal or not\n",
    "lst=[1,2,3,4,5]\n",
    "lst1=[1,2,3,4,5]\n",
    "print(id(lst))\n",
    "print(id(lst1))"
   ]
  },
  {
   "cell_type": "code",
   "execution_count": 7,
   "id": "f4de7f31",
   "metadata": {},
   "outputs": [
    {
     "data": {
      "text/plain": [
       "True"
      ]
     },
     "execution_count": 7,
     "metadata": {},
     "output_type": "execute_result"
    }
   ],
   "source": [
    "lst==lst1"
   ]
  },
  {
   "cell_type": "code",
   "execution_count": 8,
   "id": "545ccedb",
   "metadata": {},
   "outputs": [
    {
     "data": {
      "text/plain": [
       "False"
      ]
     },
     "execution_count": 8,
     "metadata": {},
     "output_type": "execute_result"
    }
   ],
   "source": [
    "lst is lst1"
   ]
  },
  {
   "cell_type": "code",
   "execution_count": 9,
   "id": "6983b738",
   "metadata": {},
   "outputs": [
    {
     "data": {
      "text/plain": [
       "True"
      ]
     },
     "execution_count": 9,
     "metadata": {},
     "output_type": "execute_result"
    }
   ],
   "source": [
    "lst is not lst1"
   ]
  },
  {
   "cell_type": "code",
   "execution_count": 14,
   "id": "69d9d978",
   "metadata": {},
   "outputs": [
    {
     "name": "stdout",
     "output_type": "stream",
     "text": [
      "Enter the marks60\n",
      "Pass\n",
      "First\n"
     ]
    }
   ],
   "source": [
    "# comparision operators part2\n",
    "##<,<=,>,>=\n",
    "\n",
    "marks=float(input('Enter the marks'))\n",
    "if marks>=35:\n",
    "    print(\"Pass\")\n",
    "    if marks>=50 and marks<=75:\n",
    "        print(\"First\")\n",
    "elif marks<35:\n",
    "    print(\"Fail\")"
   ]
  },
  {
   "cell_type": "code",
   "execution_count": null,
   "id": "c03a0420",
   "metadata": {},
   "outputs": [],
   "source": [
    "## Arithmetic operations"
   ]
  },
  {
   "cell_type": "code",
   "execution_count": 15,
   "id": "77562b5e",
   "metadata": {},
   "outputs": [
    {
     "data": {
      "text/plain": [
       "12"
      ]
     },
     "execution_count": 15,
     "metadata": {},
     "output_type": "execute_result"
    }
   ],
   "source": [
    "48//4 ##integer division"
   ]
  },
  {
   "cell_type": "code",
   "execution_count": 17,
   "id": "a998b017",
   "metadata": {},
   "outputs": [
    {
     "data": {
      "text/plain": [
       "3"
      ]
     },
     "execution_count": 17,
     "metadata": {},
     "output_type": "execute_result"
    }
   ],
   "source": [
    "48%5 ## the modulo operator"
   ]
  },
  {
   "cell_type": "code",
   "execution_count": null,
   "id": "b3e51136",
   "metadata": {},
   "outputs": [],
   "source": []
  },
  {
   "cell_type": "code",
   "execution_count": null,
   "id": "f23c9b53",
   "metadata": {},
   "outputs": [],
   "source": []
  },
  {
   "cell_type": "code",
   "execution_count": null,
   "id": "8834e2a1",
   "metadata": {},
   "outputs": [],
   "source": []
  },
  {
   "cell_type": "code",
   "execution_count": null,
   "id": "46686056",
   "metadata": {},
   "outputs": [],
   "source": []
  },
  {
   "cell_type": "code",
   "execution_count": null,
   "id": "64a3bf25",
   "metadata": {},
   "outputs": [],
   "source": []
  },
  {
   "cell_type": "code",
   "execution_count": null,
   "id": "5ce3d15c",
   "metadata": {},
   "outputs": [],
   "source": []
  },
  {
   "cell_type": "code",
   "execution_count": null,
   "id": "c3c502a4",
   "metadata": {},
   "outputs": [],
   "source": []
  },
  {
   "cell_type": "code",
   "execution_count": null,
   "id": "87e67425",
   "metadata": {},
   "outputs": [],
   "source": []
  },
  {
   "cell_type": "code",
   "execution_count": null,
   "id": "c67fa3d9",
   "metadata": {},
   "outputs": [],
   "source": []
  }
 ],
 "metadata": {
  "kernelspec": {
   "display_name": "Python 3 (ipykernel)",
   "language": "python",
   "name": "python3"
  },
  "language_info": {
   "codemirror_mode": {
    "name": "ipython",
    "version": 3
   },
   "file_extension": ".py",
   "mimetype": "text/x-python",
   "name": "python",
   "nbconvert_exporter": "python",
   "pygments_lexer": "ipython3",
   "version": "3.9.12"
  }
 },
 "nbformat": 4,
 "nbformat_minor": 5
}
